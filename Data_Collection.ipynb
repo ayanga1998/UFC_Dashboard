{
  "nbformat": 4,
  "nbformat_minor": 0,
  "metadata": {
    "colab": {
      "name": "Data_Collection.ipynb",
      "provenance": [],
      "authorship_tag": "ABX9TyOdr2PfleGsCjvCB6xjDHJp",
      "include_colab_link": true
    },
    "kernelspec": {
      "name": "python3",
      "display_name": "Python 3"
    },
    "language_info": {
      "name": "python"
    }
  },
  "cells": [
    {
      "cell_type": "markdown",
      "metadata": {
        "id": "view-in-github",
        "colab_type": "text"
      },
      "source": [
        "<a href=\"https://colab.research.google.com/github/ayanga1998/UFC_Dashboard/blob/main/Data_Collection.ipynb\" target=\"_parent\"><img src=\"https://colab.research.google.com/assets/colab-badge.svg\" alt=\"Open In Colab\"/></a>"
      ]
    },
    {
      "cell_type": "markdown",
      "source": [
        "# UFC Dataaset Collection\n",
        "---\n",
        "\n",
        "For this project, we will be developing an interactive dashboard where users can analyze their favorite fighters throughout the history of the Ultimate Fighting Championship. \n",
        "\n",
        "This notebook represents the first step in what will be an exciting journey. We begin this project by first scraping data from the UFC Stats website. This website contains data regarding nearly every fight since the inception of the UFC in the mid 1990's. "
      ],
      "metadata": {
        "id": "cGWiyduS3Wpk"
      }
    },
    {
      "cell_type": "code",
      "execution_count": 1,
      "metadata": {
        "id": "x4n1msNudonV"
      },
      "outputs": [],
      "source": [
        "import requests\n",
        "from bs4 import BeautifulSoup  \n",
        "import pandas as pd"
      ]
    },
    {
      "cell_type": "markdown",
      "source": [
        "Using beautiful soup (BS4) as our html parser, we will first extract the link to each recorded UFC event in the database"
      ],
      "metadata": {
        "id": "Wd5GXVKZ37qh"
      }
    },
    {
      "cell_type": "code",
      "source": [
        "page_url = \"http://ufcstats.com/statistics/events/completed?page=all\"\n",
        "rows = []\n",
        "event_links = []\n",
        "reviews= None\n",
        "page = requests.get(page_url)\n",
        "\n",
        "# Get links for each fight week\n",
        "if page.status_code == 200:\n",
        "    soup = BeautifulSoup(page.content, 'html.parser')\n",
        "    divs = soup.select(\"i a\")\n",
        "\n",
        "    for row in range(len(divs)):\n",
        "        event_links.append(divs[row].attrs['href'])\n",
        "\n",
        "# Store only events that have already ocurred\n",
        "event_links = event_links[1:]"
      ],
      "metadata": {
        "id": "lbvaVZ2TdrtA"
      },
      "execution_count": null,
      "outputs": []
    },
    {
      "cell_type": "markdown",
      "source": [
        "As of today, this corresponds to over 590 total events!"
      ],
      "metadata": {
        "id": "W6F4CTdH4Hav"
      }
    },
    {
      "cell_type": "code",
      "source": [
        "print(f'Total number of events available: {len(event_links)}')\n",
        "print(len(set(event_links))==len(event_links))"
      ],
      "metadata": {
        "colab": {
          "base_uri": "https://localhost:8080/"
        },
        "id": "7w_P4ygahd5l",
        "outputId": "1e09ab17-5af1-44be-d185-952e102ae7bc"
      },
      "execution_count": null,
      "outputs": [
        {
          "output_type": "stream",
          "name": "stdout",
          "text": [
            "Total number of events available: 591\n",
            "True\n"
          ]
        }
      ]
    },
    {
      "cell_type": "markdown",
      "source": [
        "Next, we sort through each event, and collect the links for each specific fight (Main Card, Prelims, and Early Prelims). "
      ],
      "metadata": {
        "id": "6_PqhNhl4M4D"
      }
    },
    {
      "cell_type": "code",
      "source": [
        "# Store the link for each fight for every event\n",
        "\n",
        "fight_stats_links = []\n",
        "text = 'fight-details'\n",
        "\n",
        "for link in event_links:\n",
        "    event_page = requests.get(link)\n",
        "\n",
        "    if event_page.status_code == 200:\n",
        "        event_soup = BeautifulSoup(event_page.content, 'html.parser')\n",
        "        fight_links = event_soup.select(\"p a\")\n",
        "\n",
        "        for row in range(0,len(fight_links)):\n",
        "            if 'fight-details' in fight_links[row].attrs['href']:\n",
        "                fight_stats_links.append(fight_links[row].attrs['href'])"
      ],
      "metadata": {
        "id": "XEmzgycbjRrN"
      },
      "execution_count": null,
      "outputs": []
    },
    {
      "cell_type": "markdown",
      "source": [
        "Based on the structure of the html code, there are instances where duplicate fight links were collected (i.e. the event in which a fight ends in a draw for example). "
      ],
      "metadata": {
        "id": "c_7Kfdbu4Yzp"
      }
    },
    {
      "cell_type": "code",
      "source": [
        "print(f'Number of fight links stored: {len(fight_stats_links)}')\n",
        "print(f'Number of unique fight links stored: {len(set(fight_stats_links))}')\n",
        "print(f'Number of duplicate links: {len(fight_stats_links)-len(set(fight_stats_links))}')"
      ],
      "metadata": {
        "colab": {
          "base_uri": "https://localhost:8080/"
        },
        "id": "AsQij-Q9kcSy",
        "outputId": "eff9d7c6-4c49-4b2c-91a7-35f17833c002"
      },
      "execution_count": null,
      "outputs": [
        {
          "output_type": "stream",
          "name": "stdout",
          "text": [
            "Number of fight links stored: 6578\n",
            "Number of unique fight links stored: 6460\n",
            "Number of duplicate links: 118\n"
          ]
        }
      ]
    },
    {
      "cell_type": "markdown",
      "source": [
        "The code below is used to filter out duplicate links before we begin scraping fight data"
      ],
      "metadata": {
        "id": "tzRJBsZZ4pbs"
      }
    },
    {
      "cell_type": "code",
      "source": [
        "# Remove duplicate links from the list\n",
        "\n",
        "fight_stats_links_unique = []\n",
        "seen = set()\n",
        "\n",
        "for x in fight_stats_links:\n",
        "    if x not in seen:\n",
        "        fight_stats_links_unique.append(x)\n",
        "        seen.add(x)"
      ],
      "metadata": {
        "id": "fBAonGWRl2zp"
      },
      "execution_count": null,
      "outputs": []
    },
    {
      "cell_type": "code",
      "source": [
        "len(fight_stats_links_unique)"
      ],
      "metadata": {
        "colab": {
          "base_uri": "https://localhost:8080/"
        },
        "id": "pxBm8GxhJ7fr",
        "outputId": "f0406bab-e217-4c52-9807-d4aeb7d8c885"
      },
      "execution_count": null,
      "outputs": [
        {
          "output_type": "execute_result",
          "data": {
            "text/plain": [
              "6460"
            ]
          },
          "metadata": {},
          "execution_count": 8
        }
      ]
    },
    {
      "cell_type": "markdown",
      "source": [
        "**Key**\n",
        "\n",
        "kd: knockdowns \\\n",
        "ss: significant strikes \\\n",
        "td: takedowns \\\n",
        "rev: ? \\\n"
      ],
      "metadata": {
        "id": "mmp8KogCEc8d"
      }
    },
    {
      "cell_type": "code",
      "source": [
        "columns = ['red_fighter', 'blue_fighter', 'red_kd', 'blue_kd', 'red_ss', 'blue_ss', 'red_ss_pct', 'blue_ss_pct',\n",
        "           'red_ts', 'blue_ts', 'red_td', 'blue_td', 'red_td_pct', 'blue_td_pct', 'red_sub_att', 'blue_sub_att', 'red_rev',\n",
        "           'blue_rev', 'red_ctrl_time', 'blue_ctrl_time', 'red_head', 'blue_head', 'red_body', 'blue_body', 'red_leg', 'blue_leg', \n",
        "           'red_dist', 'blue_dist', 'red_clinch', 'blue_clinch', 'red_grnd', 'blue_grnd']\n",
        "\n",
        "data = {col:[] for col in columns}\n",
        "data['result'] = []\n",
        "data['method'] = []\n",
        "data['round'] = []\n",
        "data['time'] = []\n",
        "data['event_title'] = []\n",
        "data['weight_class'] = []\n",
        "\n",
        "for fight_link in fight_stats_links_unique:\n",
        "\n",
        "    fight_page = requests.get(fight_link)\n",
        "\n",
        "    if fight_page.status_code == 200:\n",
        "        fight_soup = BeautifulSoup(fight_page.content, 'html.parser')\n",
        "        \n",
        "        upper_table = fight_soup.select(\"p i\")\n",
        "\n",
        "        # Collect fight statistics\n",
        "        fight_stats = fight_soup.select(\"tr\")\n",
        "\n",
        "        if len(fight_stats) > 0:\n",
        "            first_box = fight_stats[1].get_text().split(sep='\\n\\n')\n",
        "        else:\n",
        "            print(f'{divs[1].a.get_text()} v. {divs[0].a.get_text()}: Fight data unavailable')\n",
        "            continue\n",
        "\n",
        "        event_name = fight_soup.select('div h2')[0]\n",
        "        data['event_title'].append(event_name)\n",
        "\n",
        "        # Store the weight class\n",
        "        weight = fight_soup.find_all('tr',{'class':'b-fight-details__fight-title'})[0].text\n",
        "        data['weight_class'].append(weight)\n",
        "\n",
        "        # Store number of rounds in fight\n",
        "        num_rounds = upper_table[3].get_text()\n",
        "        data['round'].append(num_rounds)\n",
        "\n",
        "\n",
        "        # Store the time expended in the last round of the fight\n",
        "        time = upper_table[5].get_text()\n",
        "        data['time'].append(time)\n",
        "\n",
        "        # Store the method of victory\n",
        "        method = upper_table[2].get_text()\n",
        "        data['method'].append(method)\n",
        "        \n",
        "        # Store the winner of each fight\n",
        "        divs = fight_soup.find_all('div',{'class':'b-fight-details__person'})\n",
        "\n",
        "        if 'W' in divs[0].i.get_text():\n",
        "            data['result'].append(divs[0].a.get_text())\n",
        "        elif 'W' in divs[1].i.get_text():\n",
        "            data['result'].append(divs[1].a.get_text())\n",
        "        elif 'NC' in divs[0].i.get_text():\n",
        "            data['result'].append('NC')\n",
        "        elif 'D' in divs[0].i.get_text():\n",
        "            data['result'].append('D')\n",
        "        else:\n",
        "            data['result'].append('UNK')\n",
        "\n",
        "\n",
        "        if '5' in num_rounds:\n",
        "            print(f'{divs[1].a.get_text()} v. {divs[0].a.get_text()}: 5 round fight')\n",
        "            second_box = fight_stats[9].get_text().split(sep='\\n\\n')\n",
        "        elif '4' in num_rounds:\n",
        "            print(f'{divs[1].a.get_text()} v. {divs[0].a.get_text()}: 4 round fight (early finish)')\n",
        "            second_box = fight_stats[8].get_text().split(sep='\\n\\n')\n",
        "        elif '3' in num_rounds:\n",
        "            print(f'{divs[1].a.get_text()} v. {divs[0].a.get_text()}: 3 round fight')\n",
        "            second_box = fight_stats[7].get_text().split(sep='\\n\\n')\n",
        "        elif '2' in num_rounds:\n",
        "            print(f'{divs[1].a.get_text()} v. {divs[0].a.get_text()}: 2 round fight (early finish)')\n",
        "            second_box = fight_stats[6].get_text().split(sep='\\n\\n')\n",
        "        elif '1' in num_rounds:\n",
        "            print(f'{divs[1].a.get_text()} v. {divs[0].a.get_text()}: 1 round fight (early finish)')\n",
        "            second_box = fight_stats[5].get_text().split(sep='\\n\\n')\n",
        "\n",
        "        data_row = [element.replace('\\n', '').strip() for element in first_box if element != '']\n",
        "\n",
        "        data_row2 = [item.replace('\\n','').strip() for item in second_box if item != '']\n",
        "        data_row2 = data_row2[6:]\n",
        "\n",
        "        data_rows = data_row + data_row2\n",
        "\n",
        "        for idx, item in enumerate(data_rows):\n",
        "            data[columns[idx]].append(item)\n",
        "        "
      ],
      "metadata": {
        "id": "sts6XoFaDwPk"
      },
      "execution_count": null,
      "outputs": []
    },
    {
      "cell_type": "code",
      "source": [
        "fight_link = fight_stats_links_unique[1]\n",
        "fight_page = requests.get(fight_link)\n",
        "\n",
        "if fight_page.status_code == 200:\n",
        "    fight_soup = BeautifulSoup(fight_page.content, 'html.parser')\n",
        "    method = fight_soup.select('div h2')[0]\n",
        "    print(method.a.text)"
      ],
      "metadata": {
        "colab": {
          "base_uri": "https://localhost:8080/"
        },
        "id": "079w1RyIutfN",
        "outputId": "3ddc9dd0-ec2b-47f8-ec60-3ea09bb81b33"
      },
      "execution_count": null,
      "outputs": [
        {
          "output_type": "stream",
          "name": "stdout",
          "text": [
            "\n",
            "\n",
            "  UFC Fight Night: Hermansson vs. Strickland\n",
            "\n",
            "   \n"
          ]
        }
      ]
    },
    {
      "cell_type": "code",
      "source": [
        "# -------- Test code ----------\n",
        "fight_link = fight_stats_links_unique[100]\n",
        "fight_page = requests.get(fight_link)\n",
        "\n",
        "if fight_page.status_code == 200:\n",
        "    fight_soup = BeautifulSoup(fight_page.content, 'html.parser')\n",
        "    method = fight_soup.find_all('i',{'class':'b-fight-details__fight-title'})[0].text\n",
        "    #method = fight_soup.select('div div div div')[0]\n",
        "    print(method)"
      ],
      "metadata": {
        "colab": {
          "base_uri": "https://localhost:8080/"
        },
        "id": "Dz_RhL124wsC",
        "outputId": "1a39d127-5e7f-48bf-d5c2-c48f44cc9c6f"
      },
      "execution_count": null,
      "outputs": [
        {
          "output_type": "stream",
          "name": "stdout",
          "text": [
            "\n",
            "\n",
            "      Lightweight Bout\n",
            "    \n"
          ]
        }
      ]
    },
    {
      "cell_type": "code",
      "source": [
        "df = pd.DataFrame(data)\n",
        "\n",
        "df.head()"
      ],
      "metadata": {
        "colab": {
          "base_uri": "https://localhost:8080/",
          "height": 531
        },
        "id": "Pa08KrsTDXYt",
        "outputId": "f7882276-dfd8-46b8-e243-01dfceb8b609"
      },
      "execution_count": null,
      "outputs": [
        {
          "output_type": "execute_result",
          "data": {
            "text/html": [
              "\n",
              "  <div id=\"df-0e60834e-d4a8-4d97-8d07-8d89ed917f92\">\n",
              "    <div class=\"colab-df-container\">\n",
              "      <div>\n",
              "<style scoped>\n",
              "    .dataframe tbody tr th:only-of-type {\n",
              "        vertical-align: middle;\n",
              "    }\n",
              "\n",
              "    .dataframe tbody tr th {\n",
              "        vertical-align: top;\n",
              "    }\n",
              "\n",
              "    .dataframe thead th {\n",
              "        text-align: right;\n",
              "    }\n",
              "</style>\n",
              "<table border=\"1\" class=\"dataframe\">\n",
              "  <thead>\n",
              "    <tr style=\"text-align: right;\">\n",
              "      <th></th>\n",
              "      <th>red_fighter</th>\n",
              "      <th>blue_fighter</th>\n",
              "      <th>red_kd</th>\n",
              "      <th>blue_kd</th>\n",
              "      <th>red_ss</th>\n",
              "      <th>blue_ss</th>\n",
              "      <th>red_ss_pct</th>\n",
              "      <th>blue_ss_pct</th>\n",
              "      <th>red_ts</th>\n",
              "      <th>blue_ts</th>\n",
              "      <th>red_td</th>\n",
              "      <th>blue_td</th>\n",
              "      <th>red_td_pct</th>\n",
              "      <th>blue_td_pct</th>\n",
              "      <th>red_sub_att</th>\n",
              "      <th>blue_sub_att</th>\n",
              "      <th>red_rev</th>\n",
              "      <th>blue_rev</th>\n",
              "      <th>red_ctrl_time</th>\n",
              "      <th>blue_ctrl_time</th>\n",
              "      <th>red_head</th>\n",
              "      <th>blue_head</th>\n",
              "      <th>red_body</th>\n",
              "      <th>blue_body</th>\n",
              "      <th>red_leg</th>\n",
              "      <th>blue_leg</th>\n",
              "      <th>red_dist</th>\n",
              "      <th>blue_dist</th>\n",
              "      <th>red_clinch</th>\n",
              "      <th>blue_clinch</th>\n",
              "      <th>red_grnd</th>\n",
              "      <th>blue_grnd</th>\n",
              "      <th>result</th>\n",
              "      <th>method</th>\n",
              "      <th>round</th>\n",
              "      <th>time</th>\n",
              "      <th>event_title</th>\n",
              "      <th>weight_class</th>\n",
              "    </tr>\n",
              "  </thead>\n",
              "  <tbody>\n",
              "    <tr>\n",
              "      <th>0</th>\n",
              "      <td>Jack Hermansson</td>\n",
              "      <td>Sean Strickland</td>\n",
              "      <td>0</td>\n",
              "      <td>0</td>\n",
              "      <td>137 of 353</td>\n",
              "      <td>153 of 330</td>\n",
              "      <td>38%</td>\n",
              "      <td>46%</td>\n",
              "      <td>137 of 353</td>\n",
              "      <td>161 of 338</td>\n",
              "      <td>0 of 8</td>\n",
              "      <td>0 of 0</td>\n",
              "      <td>0%</td>\n",
              "      <td>---</td>\n",
              "      <td>0</td>\n",
              "      <td>0</td>\n",
              "      <td>0</td>\n",
              "      <td>0</td>\n",
              "      <td>0:31</td>\n",
              "      <td>0:00</td>\n",
              "      <td>22 of 194</td>\n",
              "      <td>125 of 286</td>\n",
              "      <td>64 of 105</td>\n",
              "      <td>24 of 40</td>\n",
              "      <td>51 of 54</td>\n",
              "      <td>4 of 4</td>\n",
              "      <td>134 of 350</td>\n",
              "      <td>151 of 328</td>\n",
              "      <td>3 of 3</td>\n",
              "      <td>2 of 2</td>\n",
              "      <td>0 of 0</td>\n",
              "      <td>0 of 0</td>\n",
              "      <td>Sean Strickland</td>\n",
              "      <td>Decision - Split</td>\n",
              "      <td>\\n\\n          Round:\\n        \\n        5\\n</td>\n",
              "      <td>\\n\\n          Time:\\n        \\n        5:00\\n\\...</td>\n",
              "      <td>[\\n, [\\n\\n  UFC Fight Night: Hermansson vs. St...</td>\n",
              "      <td>\\n      \\n      Middleweight Bout\\n</td>\n",
              "    </tr>\n",
              "    <tr>\n",
              "      <th>1</th>\n",
              "      <td>Punahele Soriano</td>\n",
              "      <td>Nick Maximov</td>\n",
              "      <td>0</td>\n",
              "      <td>0</td>\n",
              "      <td>45 of 63</td>\n",
              "      <td>29 of 45</td>\n",
              "      <td>71%</td>\n",
              "      <td>64%</td>\n",
              "      <td>74 of 93</td>\n",
              "      <td>60 of 82</td>\n",
              "      <td>0 of 0</td>\n",
              "      <td>11 of 16</td>\n",
              "      <td>---</td>\n",
              "      <td>68%</td>\n",
              "      <td>0</td>\n",
              "      <td>1</td>\n",
              "      <td>0</td>\n",
              "      <td>1</td>\n",
              "      <td>1:37</td>\n",
              "      <td>8:45</td>\n",
              "      <td>28 of 46</td>\n",
              "      <td>19 of 33</td>\n",
              "      <td>17 of 17</td>\n",
              "      <td>6 of 8</td>\n",
              "      <td>0 of 0</td>\n",
              "      <td>4 of 4</td>\n",
              "      <td>20 of 38</td>\n",
              "      <td>15 of 31</td>\n",
              "      <td>2 of 2</td>\n",
              "      <td>10 of 10</td>\n",
              "      <td>23 of 23</td>\n",
              "      <td>4 of 4</td>\n",
              "      <td>Nick Maximov</td>\n",
              "      <td>Decision - Split</td>\n",
              "      <td>\\n\\n          Round:\\n        \\n        3\\n</td>\n",
              "      <td>\\n\\n          Time:\\n        \\n        5:00\\n\\...</td>\n",
              "      <td>[\\n, [\\n\\n  UFC Fight Night: Hermansson vs. St...</td>\n",
              "      <td>\\n      \\n      Middleweight Bout\\n</td>\n",
              "    </tr>\n",
              "    <tr>\n",
              "      <th>2</th>\n",
              "      <td>Shavkat Rakhmonov</td>\n",
              "      <td>Carlston Harris</td>\n",
              "      <td>1</td>\n",
              "      <td>0</td>\n",
              "      <td>13 of 28</td>\n",
              "      <td>10 of 27</td>\n",
              "      <td>46%</td>\n",
              "      <td>37%</td>\n",
              "      <td>16 of 31</td>\n",
              "      <td>15 of 35</td>\n",
              "      <td>1 of 3</td>\n",
              "      <td>0 of 0</td>\n",
              "      <td>33%</td>\n",
              "      <td>---</td>\n",
              "      <td>0</td>\n",
              "      <td>0</td>\n",
              "      <td>0</td>\n",
              "      <td>0</td>\n",
              "      <td>0:52</td>\n",
              "      <td>0:44</td>\n",
              "      <td>10 of 25</td>\n",
              "      <td>3 of 13</td>\n",
              "      <td>3 of 3</td>\n",
              "      <td>6 of 10</td>\n",
              "      <td>0 of 0</td>\n",
              "      <td>1 of 4</td>\n",
              "      <td>9 of 20</td>\n",
              "      <td>8 of 25</td>\n",
              "      <td>0 of 0</td>\n",
              "      <td>2 of 2</td>\n",
              "      <td>4 of 8</td>\n",
              "      <td>0 of 0</td>\n",
              "      <td>Shavkat Rakhmonov</td>\n",
              "      <td>KO/TKO</td>\n",
              "      <td>\\n\\n          Round:\\n        \\n        1\\n</td>\n",
              "      <td>\\n\\n          Time:\\n        \\n        4:10\\n\\...</td>\n",
              "      <td>[\\n, [\\n\\n  UFC Fight Night: Hermansson vs. St...</td>\n",
              "      <td>\\n\\n      Welterweight Bout\\n</td>\n",
              "    </tr>\n",
              "    <tr>\n",
              "      <th>3</th>\n",
              "      <td>Sam Alvey</td>\n",
              "      <td>Brendan Allen</td>\n",
              "      <td>0</td>\n",
              "      <td>1</td>\n",
              "      <td>24 of 57</td>\n",
              "      <td>36 of 54</td>\n",
              "      <td>42%</td>\n",
              "      <td>66%</td>\n",
              "      <td>24 of 57</td>\n",
              "      <td>36 of 54</td>\n",
              "      <td>0 of 0</td>\n",
              "      <td>0 of 1</td>\n",
              "      <td>---</td>\n",
              "      <td>0%</td>\n",
              "      <td>0</td>\n",
              "      <td>1</td>\n",
              "      <td>0</td>\n",
              "      <td>0</td>\n",
              "      <td>0:07</td>\n",
              "      <td>0:44</td>\n",
              "      <td>20 of 52</td>\n",
              "      <td>15 of 32</td>\n",
              "      <td>2 of 3</td>\n",
              "      <td>14 of 15</td>\n",
              "      <td>2 of 2</td>\n",
              "      <td>7 of 7</td>\n",
              "      <td>24 of 56</td>\n",
              "      <td>32 of 47</td>\n",
              "      <td>0 of 1</td>\n",
              "      <td>2 of 3</td>\n",
              "      <td>0 of 0</td>\n",
              "      <td>2 of 4</td>\n",
              "      <td>Brendan Allen</td>\n",
              "      <td>Submission</td>\n",
              "      <td>\\n\\n          Round:\\n        \\n        2\\n</td>\n",
              "      <td>\\n\\n          Time:\\n        \\n        2:10\\n\\...</td>\n",
              "      <td>[\\n, [\\n\\n  UFC Fight Night: Hermansson vs. St...</td>\n",
              "      <td>\\n      \\n      Light Heavyweight Bout\\n</td>\n",
              "    </tr>\n",
              "    <tr>\n",
              "      <th>4</th>\n",
              "      <td>Tresean Gore</td>\n",
              "      <td>Bryan Battle</td>\n",
              "      <td>0</td>\n",
              "      <td>0</td>\n",
              "      <td>57 of 95</td>\n",
              "      <td>112 of 193</td>\n",
              "      <td>60%</td>\n",
              "      <td>58%</td>\n",
              "      <td>86 of 126</td>\n",
              "      <td>119 of 203</td>\n",
              "      <td>2 of 3</td>\n",
              "      <td>1 of 8</td>\n",
              "      <td>66%</td>\n",
              "      <td>12%</td>\n",
              "      <td>1</td>\n",
              "      <td>0</td>\n",
              "      <td>0</td>\n",
              "      <td>0</td>\n",
              "      <td>1:16</td>\n",
              "      <td>3:20</td>\n",
              "      <td>31 of 67</td>\n",
              "      <td>49 of 117</td>\n",
              "      <td>15 of 17</td>\n",
              "      <td>46 of 59</td>\n",
              "      <td>11 of 11</td>\n",
              "      <td>17 of 17</td>\n",
              "      <td>42 of 79</td>\n",
              "      <td>105 of 185</td>\n",
              "      <td>11 of 12</td>\n",
              "      <td>7 of 8</td>\n",
              "      <td>4 of 4</td>\n",
              "      <td>0 of 0</td>\n",
              "      <td>Bryan Battle</td>\n",
              "      <td>Decision - Unanimous</td>\n",
              "      <td>\\n\\n          Round:\\n        \\n        3\\n</td>\n",
              "      <td>\\n\\n          Time:\\n        \\n        5:00\\n\\...</td>\n",
              "      <td>[\\n, [\\n\\n  UFC Fight Night: Hermansson vs. St...</td>\n",
              "      <td>\\n      \\n      Middleweight Bout\\n</td>\n",
              "    </tr>\n",
              "  </tbody>\n",
              "</table>\n",
              "</div>\n",
              "      <button class=\"colab-df-convert\" onclick=\"convertToInteractive('df-0e60834e-d4a8-4d97-8d07-8d89ed917f92')\"\n",
              "              title=\"Convert this dataframe to an interactive table.\"\n",
              "              style=\"display:none;\">\n",
              "        \n",
              "  <svg xmlns=\"http://www.w3.org/2000/svg\" height=\"24px\"viewBox=\"0 0 24 24\"\n",
              "       width=\"24px\">\n",
              "    <path d=\"M0 0h24v24H0V0z\" fill=\"none\"/>\n",
              "    <path d=\"M18.56 5.44l.94 2.06.94-2.06 2.06-.94-2.06-.94-.94-2.06-.94 2.06-2.06.94zm-11 1L8.5 8.5l.94-2.06 2.06-.94-2.06-.94L8.5 2.5l-.94 2.06-2.06.94zm10 10l.94 2.06.94-2.06 2.06-.94-2.06-.94-.94-2.06-.94 2.06-2.06.94z\"/><path d=\"M17.41 7.96l-1.37-1.37c-.4-.4-.92-.59-1.43-.59-.52 0-1.04.2-1.43.59L10.3 9.45l-7.72 7.72c-.78.78-.78 2.05 0 2.83L4 21.41c.39.39.9.59 1.41.59.51 0 1.02-.2 1.41-.59l7.78-7.78 2.81-2.81c.8-.78.8-2.07 0-2.86zM5.41 20L4 18.59l7.72-7.72 1.47 1.35L5.41 20z\"/>\n",
              "  </svg>\n",
              "      </button>\n",
              "      \n",
              "  <style>\n",
              "    .colab-df-container {\n",
              "      display:flex;\n",
              "      flex-wrap:wrap;\n",
              "      gap: 12px;\n",
              "    }\n",
              "\n",
              "    .colab-df-convert {\n",
              "      background-color: #E8F0FE;\n",
              "      border: none;\n",
              "      border-radius: 50%;\n",
              "      cursor: pointer;\n",
              "      display: none;\n",
              "      fill: #1967D2;\n",
              "      height: 32px;\n",
              "      padding: 0 0 0 0;\n",
              "      width: 32px;\n",
              "    }\n",
              "\n",
              "    .colab-df-convert:hover {\n",
              "      background-color: #E2EBFA;\n",
              "      box-shadow: 0px 1px 2px rgba(60, 64, 67, 0.3), 0px 1px 3px 1px rgba(60, 64, 67, 0.15);\n",
              "      fill: #174EA6;\n",
              "    }\n",
              "\n",
              "    [theme=dark] .colab-df-convert {\n",
              "      background-color: #3B4455;\n",
              "      fill: #D2E3FC;\n",
              "    }\n",
              "\n",
              "    [theme=dark] .colab-df-convert:hover {\n",
              "      background-color: #434B5C;\n",
              "      box-shadow: 0px 1px 3px 1px rgba(0, 0, 0, 0.15);\n",
              "      filter: drop-shadow(0px 1px 2px rgba(0, 0, 0, 0.3));\n",
              "      fill: #FFFFFF;\n",
              "    }\n",
              "  </style>\n",
              "\n",
              "      <script>\n",
              "        const buttonEl =\n",
              "          document.querySelector('#df-0e60834e-d4a8-4d97-8d07-8d89ed917f92 button.colab-df-convert');\n",
              "        buttonEl.style.display =\n",
              "          google.colab.kernel.accessAllowed ? 'block' : 'none';\n",
              "\n",
              "        async function convertToInteractive(key) {\n",
              "          const element = document.querySelector('#df-0e60834e-d4a8-4d97-8d07-8d89ed917f92');\n",
              "          const dataTable =\n",
              "            await google.colab.kernel.invokeFunction('convertToInteractive',\n",
              "                                                     [key], {});\n",
              "          if (!dataTable) return;\n",
              "\n",
              "          const docLinkHtml = 'Like what you see? Visit the ' +\n",
              "            '<a target=\"_blank\" href=https://colab.research.google.com/notebooks/data_table.ipynb>data table notebook</a>'\n",
              "            + ' to learn more about interactive tables.';\n",
              "          element.innerHTML = '';\n",
              "          dataTable['output_type'] = 'display_data';\n",
              "          await google.colab.output.renderOutput(dataTable, element);\n",
              "          const docLink = document.createElement('div');\n",
              "          docLink.innerHTML = docLinkHtml;\n",
              "          element.appendChild(docLink);\n",
              "        }\n",
              "      </script>\n",
              "    </div>\n",
              "  </div>\n",
              "  "
            ],
            "text/plain": [
              "         red_fighter  ...                                  weight_class\n",
              "0    Jack Hermansson  ...       \\n      \\n      Middleweight Bout\\n    \n",
              "1   Punahele Soriano  ...       \\n      \\n      Middleweight Bout\\n    \n",
              "2  Shavkat Rakhmonov  ...             \\n\\n      Welterweight Bout\\n    \n",
              "3          Sam Alvey  ...  \\n      \\n      Light Heavyweight Bout\\n    \n",
              "4       Tresean Gore  ...       \\n      \\n      Middleweight Bout\\n    \n",
              "\n",
              "[5 rows x 38 columns]"
            ]
          },
          "metadata": {},
          "execution_count": 24
        }
      ]
    },
    {
      "cell_type": "code",
      "source": [
        "df.to_csv('full_ufc_dataset.csv')"
      ],
      "metadata": {
        "id": "keKcudsHDpp4"
      },
      "execution_count": null,
      "outputs": []
    },
    {
      "cell_type": "markdown",
      "source": [
        "# Collecting Event Data\n",
        "---\n",
        "We would like to collect the date for each event in the UFC as it may be beneficial for analytics purposes"
      ],
      "metadata": {
        "id": "83xc1L6OU2fK"
      }
    },
    {
      "cell_type": "code",
      "source": [
        "page_url = \"https://en.wikipedia.org/wiki/List_of_UFC_events\"\n",
        "page = requests.get(page_url)\n",
        "\n",
        "# Get links for each fight week\n",
        "if page.status_code == 200:\n",
        "    soup = BeautifulSoup(page.content, 'html.parser')\n",
        "\n",
        "    event_table = soup.find('table',{'id':'Past_events'})\n",
        "    body = event_table.find('tbody')\n",
        "    rows = body.find_all('tr')\n",
        "\n",
        "data = {'event_title':[], 'date':[]}\n",
        "\n",
        "for row in rows[1:]:\n",
        "    row_data = row.find_all('td')\n",
        "\n",
        "    data['event_title'].append(row_data[1].text.replace('\\n',''))\n",
        "    data['date'].append(row_data[2].text.replace('\\n',''))"
      ],
      "metadata": {
        "id": "K58r7i9sU2Jr"
      },
      "execution_count": 7,
      "outputs": []
    },
    {
      "cell_type": "code",
      "source": [
        "event_df = pd.DataFrame(data)"
      ],
      "metadata": {
        "id": "Buj3Hxf2XlP-"
      },
      "execution_count": 8,
      "outputs": []
    },
    {
      "cell_type": "code",
      "source": [
        "time = {'Jan':'1', 'Feb':'2', 'Mar':'3', 'Apr':'4', 'May':'5', 'Jun':'6', 'Jul':'7',\n",
        "        'Aug':'8', 'Sep':'9', 'Oct':'10', 'Nov':'11', 'Dec':'12'}\n",
        "\n",
        "def replace_date(text):\n",
        "    for x, y in time.items():\n",
        "        text = text.replace(x,y)\n",
        "    \n",
        "    text = text.replace(',','')\n",
        "    text = text.replace(' ', '-')\n",
        "    return text"
      ],
      "metadata": {
        "id": "3x6iOcXyXqOh"
      },
      "execution_count": 9,
      "outputs": []
    },
    {
      "cell_type": "code",
      "source": [
        "event_df['date'] = event_df.date.apply(lambda x: replace_date(x))"
      ],
      "metadata": {
        "id": "rGkLmipRXtj3"
      },
      "execution_count": 10,
      "outputs": []
    },
    {
      "cell_type": "code",
      "source": [
        "event_df.to_csv('event_data.csv')"
      ],
      "metadata": {
        "id": "mpG_wqRfYmt7"
      },
      "execution_count": 12,
      "outputs": []
    },
    {
      "cell_type": "markdown",
      "source": [
        "# Sustaining the database\n",
        "---\n",
        "It takes several hours to scrape the data from the UFC Stats website. It becomes unnecessary and painful having to run the entire code each time I want to update the dataset. To reduce suffering, let's add some code to scrape only the latest event. We can do this every week in order to maintain the dataset quality"
      ],
      "metadata": {
        "id": "CUoxe_maRQt6"
      }
    },
    {
      "cell_type": "code",
      "source": [
        ""
      ],
      "metadata": {
        "id": "UHgYAn0aRQOQ"
      },
      "execution_count": null,
      "outputs": []
    }
  ]
}